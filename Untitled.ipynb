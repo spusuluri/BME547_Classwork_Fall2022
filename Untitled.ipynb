{
 "cells": [
  {
   "cell_type": "code",
   "execution_count": null,
   "id": "2e1d1dda",
   "metadata": {},
   "outputs": [],
   "source": [
    "x = 5\n",
    "a = x+3\n",
    "print(x)"
   ]
  },
  {
   "cell_type": "markdown",
   "id": "6a2f7b08",
   "metadata": {},
   "source": [
    "## Markdown\n",
    "\n",
    "This is markdown code. \n"
   ]
  }
 ],
 "metadata": {
  "kernelspec": {
   "display_name": "Python 3 (ipykernel)",
   "language": "python",
   "name": "python3"
  },
  "language_info": {
   "codemirror_mode": {
    "name": "ipython",
    "version": 3
   },
   "file_extension": ".py",
   "mimetype": "text/x-python",
   "name": "python",
   "nbconvert_exporter": "python",
   "pygments_lexer": "ipython3",
   "version": "3.9.7"
  }
 },
 "nbformat": 4,
 "nbformat_minor": 5
}
